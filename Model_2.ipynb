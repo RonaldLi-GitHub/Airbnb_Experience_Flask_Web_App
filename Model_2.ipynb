{
 "cells": [
  {
   "cell_type": "code",
   "execution_count": 1,
   "id": "ca5207c8",
   "metadata": {},
   "outputs": [],
   "source": [
    "import numpy as np\n",
    "import pandas as pd\n",
    "import matplotlib.pyplot as plt\n",
    "import seaborn as sns\n",
    "import json\n",
    "import tensorflow as tf\n",
    "import nltk\n",
    "from sklearn.model_selection import train_test_split\n",
    "from tensorflow.keras.preprocessing.text import Tokenizer\n",
    "from tensorflow.keras.preprocessing.sequence import pad_sequences\n",
    "import pickle"
   ]
  },
  {
   "cell_type": "markdown",
   "id": "6d88521d",
   "metadata": {},
   "source": [
    "Let's load the data and set the column names."
   ]
  },
  {
   "cell_type": "code",
   "execution_count": 2,
   "id": "746cf846",
   "metadata": {},
   "outputs": [],
   "source": [
    "col_names=[\"tweet emotion\", \"tweet id\", \"tweet date\", \"query\", \"tweet user\", \"tweet text\"  ]\n",
    "data=pd.read_csv(\"training.1600000.processed.noemoticon.csv\", \n",
    "                 names=col_names, header=None, encoding='latin1')"
   ]
  },
  {
   "cell_type": "markdown",
   "id": "197a4b64",
   "metadata": {},
   "source": [
    "Let's check the first 5 records."
   ]
  },
  {
   "cell_type": "code",
   "execution_count": 3,
   "id": "44efc778",
   "metadata": {},
   "outputs": [
    {
     "data": {
      "text/html": [
       "<div>\n",
       "<style scoped>\n",
       "    .dataframe tbody tr th:only-of-type {\n",
       "        vertical-align: middle;\n",
       "    }\n",
       "\n",
       "    .dataframe tbody tr th {\n",
       "        vertical-align: top;\n",
       "    }\n",
       "\n",
       "    .dataframe thead th {\n",
       "        text-align: right;\n",
       "    }\n",
       "</style>\n",
       "<table border=\"1\" class=\"dataframe\">\n",
       "  <thead>\n",
       "    <tr style=\"text-align: right;\">\n",
       "      <th></th>\n",
       "      <th>tweet emotion</th>\n",
       "      <th>tweet id</th>\n",
       "      <th>tweet date</th>\n",
       "      <th>query</th>\n",
       "      <th>tweet user</th>\n",
       "      <th>tweet text</th>\n",
       "    </tr>\n",
       "  </thead>\n",
       "  <tbody>\n",
       "    <tr>\n",
       "      <th>0</th>\n",
       "      <td>0</td>\n",
       "      <td>1467810369</td>\n",
       "      <td>Mon Apr 06 22:19:45 PDT 2009</td>\n",
       "      <td>NO_QUERY</td>\n",
       "      <td>_TheSpecialOne_</td>\n",
       "      <td>@switchfoot http://twitpic.com/2y1zl - Awww, t...</td>\n",
       "    </tr>\n",
       "    <tr>\n",
       "      <th>1</th>\n",
       "      <td>0</td>\n",
       "      <td>1467810672</td>\n",
       "      <td>Mon Apr 06 22:19:49 PDT 2009</td>\n",
       "      <td>NO_QUERY</td>\n",
       "      <td>scotthamilton</td>\n",
       "      <td>is upset that he can't update his Facebook by ...</td>\n",
       "    </tr>\n",
       "    <tr>\n",
       "      <th>2</th>\n",
       "      <td>0</td>\n",
       "      <td>1467810917</td>\n",
       "      <td>Mon Apr 06 22:19:53 PDT 2009</td>\n",
       "      <td>NO_QUERY</td>\n",
       "      <td>mattycus</td>\n",
       "      <td>@Kenichan I dived many times for the ball. Man...</td>\n",
       "    </tr>\n",
       "    <tr>\n",
       "      <th>3</th>\n",
       "      <td>0</td>\n",
       "      <td>1467811184</td>\n",
       "      <td>Mon Apr 06 22:19:57 PDT 2009</td>\n",
       "      <td>NO_QUERY</td>\n",
       "      <td>ElleCTF</td>\n",
       "      <td>my whole body feels itchy and like its on fire</td>\n",
       "    </tr>\n",
       "    <tr>\n",
       "      <th>4</th>\n",
       "      <td>0</td>\n",
       "      <td>1467811193</td>\n",
       "      <td>Mon Apr 06 22:19:57 PDT 2009</td>\n",
       "      <td>NO_QUERY</td>\n",
       "      <td>Karoli</td>\n",
       "      <td>@nationwideclass no, it's not behaving at all....</td>\n",
       "    </tr>\n",
       "  </tbody>\n",
       "</table>\n",
       "</div>"
      ],
      "text/plain": [
       "   tweet emotion    tweet id                    tweet date     query  \\\n",
       "0              0  1467810369  Mon Apr 06 22:19:45 PDT 2009  NO_QUERY   \n",
       "1              0  1467810672  Mon Apr 06 22:19:49 PDT 2009  NO_QUERY   \n",
       "2              0  1467810917  Mon Apr 06 22:19:53 PDT 2009  NO_QUERY   \n",
       "3              0  1467811184  Mon Apr 06 22:19:57 PDT 2009  NO_QUERY   \n",
       "4              0  1467811193  Mon Apr 06 22:19:57 PDT 2009  NO_QUERY   \n",
       "\n",
       "        tweet user                                         tweet text  \n",
       "0  _TheSpecialOne_  @switchfoot http://twitpic.com/2y1zl - Awww, t...  \n",
       "1    scotthamilton  is upset that he can't update his Facebook by ...  \n",
       "2         mattycus  @Kenichan I dived many times for the ball. Man...  \n",
       "3          ElleCTF    my whole body feels itchy and like its on fire   \n",
       "4           Karoli  @nationwideclass no, it's not behaving at all....  "
      ]
     },
     "execution_count": 3,
     "metadata": {},
     "output_type": "execute_result"
    }
   ],
   "source": [
    "data.head()"
   ]
  },
  {
   "cell_type": "markdown",
   "id": "837c92c9",
   "metadata": {},
   "source": [
    "Tweet text column will be cleaned. Characters such as @, http, extra spaces will be removed."
   ]
  },
  {
   "cell_type": "code",
   "execution_count": 4,
   "id": "699d13f6",
   "metadata": {},
   "outputs": [],
   "source": [
    "data['tweet text']=data['tweet text'].str.lower()\n",
    "data['tweet text']=data['tweet text'].str.replace('@\\S{1,}', '', regex=True)\n",
    "data['tweet text']=data['tweet text'].str.replace('http\\S{1,}', '', regex=True)\n",
    "data['tweet text']=data['tweet text'].str.replace('www\\.\\S{1,}', '', regex=True)\n",
    "data['tweet text']=data['tweet text'].str.replace('\\s{2,}',' ', regex=True)\n",
    "data['tweet text']=data['tweet text'].str.strip()"
   ]
  },
  {
   "cell_type": "markdown",
   "id": "32065e00",
   "metadata": {},
   "source": [
    "Let's check the first 10 records after the cleaning."
   ]
  },
  {
   "cell_type": "code",
   "execution_count": 5,
   "id": "4ce71717",
   "metadata": {},
   "outputs": [
    {
     "data": {
      "text/plain": [
       "0    - awww, that's a bummer. you shoulda got david...\n",
       "1    is upset that he can't update his facebook by ...\n",
       "2    i dived many times for the ball. managed to sa...\n",
       "3       my whole body feels itchy and like its on fire\n",
       "4    no, it's not behaving at all. i'm mad. why am ...\n",
       "5                                   not the whole crew\n",
       "6                                           need a hug\n",
       "7    hey long time no see! yes.. rains a bit ,only ...\n",
       "8                             nope they didn't have it\n",
       "9                                       que me muera ?\n",
       "Name: tweet text, dtype: object"
      ]
     },
     "execution_count": 5,
     "metadata": {},
     "output_type": "execute_result"
    }
   ],
   "source": [
    "data.iloc[:10,5]\n"
   ]
  },
  {
   "cell_type": "markdown",
   "id": "178ed888",
   "metadata": {},
   "source": [
    "Stop words are those that don't have particular meanings and don't alter the semantics of the sentences. Thus, such words will be removed."
   ]
  },
  {
   "cell_type": "code",
   "execution_count": 6,
   "id": "cc0ca78a",
   "metadata": {},
   "outputs": [
    {
     "name": "stdout",
     "output_type": "stream",
     "text": [
      "['i', 'me', 'my', 'myself', 'we', 'our', 'ours', 'ourselves', 'you', \"you're\", \"you've\", \"you'll\", \"you'd\", 'your', 'yours', 'yourself', 'yourselves', 'he', 'him', 'his', 'himself', 'she', \"she's\", 'her', 'hers', 'herself', 'it', \"it's\", 'its', 'itself', 'they', 'them', 'their', 'theirs', 'themselves', 'what', 'which', 'who', 'whom', 'this', 'that', \"that'll\", 'these', 'those', 'am', 'is', 'are', 'was', 'were', 'be', 'been', 'being', 'have', 'has', 'had', 'having', 'do', 'does', 'did', 'doing', 'a', 'an', 'the', 'and', 'but', 'if', 'or', 'because', 'as', 'until', 'while', 'of', 'at', 'by', 'for', 'with', 'about', 'against', 'between', 'into', 'through', 'during', 'before', 'after', 'above', 'below', 'to', 'from', 'up', 'down', 'in', 'out', 'on', 'off', 'over', 'under', 'again', 'further', 'then', 'once', 'here', 'there', 'when', 'where', 'why', 'how', 'all', 'any', 'both', 'each', 'few', 'more', 'most', 'other', 'some', 'such', 'nor', 'only', 'own', 'same', 'so', 'than', 'too', 'very', 's', 't', 'can', 'will', 'just', 'now', 'd', 'll', 'm', 'o', 're', 've', 'y', 'ma']\n"
     ]
    }
   ],
   "source": [
    "stop_words=['i', 'me', 'my', 'myself', 'we', 'our', 'ours', 'ourselves', 'you', \"you're\", \"you've\", \"you'll\", \"you'd\", 'your', 'yours', 'yourself', 'yourselves', 'he', 'him', 'his', 'himself', 'she', \"she's\", 'her', 'hers', 'herself', 'it', \"it's\", 'its', 'itself', 'they', 'them', 'their', 'theirs', 'themselves', 'what', 'which', 'who', 'whom', 'this', 'that', \"that'll\", 'these', 'those', 'am', 'is', 'are', 'was', 'were', 'be', 'been', 'being', 'have', 'has', 'had', 'having', 'do', 'does', 'did', 'doing', 'a', 'an', 'the', 'and', 'but', 'if', 'or', 'because', 'as', 'until', 'while', 'of', 'at', 'by', 'for', 'with', 'about', 'against', 'between', 'into', 'through', 'during', 'before', 'after', 'above', 'below', 'to', 'from', 'up', 'down', 'in', 'out', 'on', 'off', 'over', 'under', 'again', 'further', 'then', 'once', 'here', 'there', 'when', 'where', 'why', 'how', 'all', 'any', 'both', 'each', 'few', 'more', 'most', 'other', 'some', 'such', 'nor', 'only', 'own', 'same', 'so', 'than', 'too', 'very', 's', 't', 'can', 'will', 'just', 'now', 'd', 'll', 'm', 'o', 're', 've', 'y', 'ma']\n",
    "print(stop_words)"
   ]
  },
  {
   "cell_type": "markdown",
   "id": "fe32f727",
   "metadata": {},
   "source": [
    "The following will ensure that stop words are removed from Tweet Text."
   ]
  },
  {
   "cell_type": "code",
   "execution_count": 7,
   "id": "b45a5d92",
   "metadata": {},
   "outputs": [],
   "source": [
    "def check_stop_words(x):\n",
    "    x_list=x.split()\n",
    "    for index, item in enumerate(x_list):\n",
    "        if item in stop_words:\n",
    "            del x_list[index]\n",
    "    return \" \".join(x_list)\n",
    "data['tweet text']=data['tweet text'].apply(check_stop_words)\n",
    "data['tweet text']=data['tweet text'].str.replace('\\s{2,}',' ', regex=True)\n",
    "data['tweet text']=data['tweet text'].str.strip()\n",
    "\n",
    "data[\"tweet label\"]=np.where(data[\"tweet emotion\"]==4, 1, 0)"
   ]
  },
  {
   "cell_type": "markdown",
   "id": "a2f2268a",
   "metadata": {},
   "source": [
    "We will split the data into 70% training and 30% testing."
   ]
  },
  {
   "cell_type": "code",
   "execution_count": 8,
   "id": "259ff02e",
   "metadata": {},
   "outputs": [],
   "source": [
    "X_train, X_test, y_train, y_test = train_test_split(data[\"tweet text\"], data[\"tweet label\"], test_size=0.30)"
   ]
  },
  {
   "cell_type": "code",
   "execution_count": 9,
   "id": "8885d7be",
   "metadata": {},
   "outputs": [
    {
     "data": {
      "text/plain": [
       "1    560031\n",
       "0    559969\n",
       "Name: tweet label, dtype: int64"
      ]
     },
     "execution_count": 9,
     "metadata": {},
     "output_type": "execute_result"
    }
   ],
   "source": [
    "y_train.value_counts()"
   ]
  },
  {
   "cell_type": "code",
   "execution_count": 10,
   "id": "26865773",
   "metadata": {},
   "outputs": [
    {
     "data": {
      "text/plain": [
       "0    240031\n",
       "1    239969\n",
       "Name: tweet label, dtype: int64"
      ]
     },
     "execution_count": 10,
     "metadata": {},
     "output_type": "execute_result"
    }
   ],
   "source": [
    "y_test.value_counts()"
   ]
  },
  {
   "cell_type": "markdown",
   "id": "59635624",
   "metadata": {},
   "source": [
    "Let's check the first 20 records of the training data."
   ]
  },
  {
   "cell_type": "code",
   "execution_count": 11,
   "id": "f010141c",
   "metadata": {},
   "outputs": [
    {
     "data": {
      "text/plain": [
       "683947                ok ur welcome nd im srry bout wat said\n",
       "1195363                         aww click always makes happy\n",
       "1064056    woo hoo! new gilmore girls season starts june ...\n",
       "871507     hating i to work til tuesday...but happy have ...\n",
       "862716                  oh, thank god hope have fab weekend!\n",
       "1178444                      good luck graduation...your man\n",
       "1361620             hilarous! well...now know weren't alone.\n",
       "344535     am still waiting the, &quot;guess what? were j...\n",
       "1276647    &quot;forget twitter, i'm the cb&quot; ... sai...\n",
       "710139                  on saturday night damn anti biotics!\n",
       "430672                        least have something do though\n",
       "251868     was driving aimlessly around sd of million det...\n",
       "1271786              pleasure! cheers, good twitter friends!\n",
       "126973     motion sickness more prominent you're horribly...\n",
       "190267     was dawn im sorry. didn't even know was going ...\n",
       "1187832    thanks-- think i'll take up that. is schedule ...\n",
       "1441896    spotted another dyke str8 bar.... turns im not...\n",
       "1580708    lol...it's instant messaging programme ... !!!...\n",
       "678264     ugh! hate rain!! im wet yea umbrellas def irre...\n",
       "Name: tweet text, dtype: object"
      ]
     },
     "execution_count": 11,
     "metadata": {},
     "output_type": "execute_result"
    }
   ],
   "source": [
    "X_train.iloc[1:20,]\n"
   ]
  },
  {
   "cell_type": "code",
   "execution_count": 12,
   "id": "c1aad2a8",
   "metadata": {},
   "outputs": [
    {
     "data": {
      "text/plain": [
       "683947     0\n",
       "1195363    1\n",
       "1064056    1\n",
       "871507     1\n",
       "862716     1\n",
       "1178444    1\n",
       "1361620    1\n",
       "344535     0\n",
       "1276647    1\n",
       "710139     0\n",
       "430672     0\n",
       "251868     0\n",
       "1271786    1\n",
       "126973     0\n",
       "190267     0\n",
       "1187832    1\n",
       "1441896    1\n",
       "1580708    1\n",
       "678264     0\n",
       "Name: tweet label, dtype: int32"
      ]
     },
     "execution_count": 12,
     "metadata": {},
     "output_type": "execute_result"
    }
   ],
   "source": [
    "y_train.iloc[1:20,]"
   ]
  },
  {
   "cell_type": "markdown",
   "id": "424356c8",
   "metadata": {},
   "source": [
    "The following are the hyperparameters of the model. The top 50,000 most common words are chosen to be placed in the tokenizer."
   ]
  },
  {
   "cell_type": "code",
   "execution_count": 13,
   "id": "3fda56c6",
   "metadata": {},
   "outputs": [],
   "source": [
    "vocab_size = 50000\n",
    "embedding_dim = 16\n",
    "max_length = 120\n",
    "trunc_type='post'\n",
    "padding_type='post'\n",
    "oov_tok = \"<OOV>\"\n"
   ]
  },
  {
   "cell_type": "markdown",
   "id": "90319939",
   "metadata": {},
   "source": [
    "The following will set up and run the tensorflow model. Bidirectional LSTM is particularly useful when the order of words has an impact on the overall tone of the sentences. Drop out layer also helps in reducing overfitting."
   ]
  },
  {
   "cell_type": "code",
   "execution_count": 14,
   "id": "868bf160",
   "metadata": {},
   "outputs": [
    {
     "name": "stdout",
     "output_type": "stream",
     "text": [
      "Model: \"sequential\"\n",
      "_________________________________________________________________\n",
      " Layer (type)                Output Shape              Param #   \n",
      "=================================================================\n",
      " embedding (Embedding)       (None, 120, 16)           800000    \n",
      "                                                                 \n",
      " bidirectional (Bidirectiona  (None, 128)              41472     \n",
      " l)                                                              \n",
      "                                                                 \n",
      " dropout (Dropout)           (None, 128)               0         \n",
      "                                                                 \n",
      " dense (Dense)               (None, 24)                3096      \n",
      "                                                                 \n",
      " dense_1 (Dense)             (None, 1)                 25        \n",
      "                                                                 \n",
      "=================================================================\n",
      "Total params: 844,593\n",
      "Trainable params: 844,593\n",
      "Non-trainable params: 0\n",
      "_________________________________________________________________\n",
      "Epoch 1/3\n",
      "35000/35000 [==============================] - 1531s 44ms/step - loss: 0.4301 - accuracy: 0.8010 - val_loss: 0.4053 - val_accuracy: 0.8157\n",
      "Epoch 2/3\n",
      "35000/35000 [==============================] - 1536s 44ms/step - loss: 0.3869 - accuracy: 0.8253 - val_loss: 0.3976 - val_accuracy: 0.8188\n",
      "Epoch 3/3\n",
      "35000/35000 [==============================] - 1552s 44ms/step - loss: 0.3682 - accuracy: 0.8358 - val_loss: 0.3989 - val_accuracy: 0.8197\n"
     ]
    }
   ],
   "source": [
    "tokenizer = Tokenizer(num_words=vocab_size, oov_token=oov_tok)\n",
    "tokenizer.fit_on_texts(X_train)\n",
    "word_index = tokenizer.word_index\n",
    "training_sequences = tokenizer.texts_to_sequences(X_train)\n",
    "training_padded = pad_sequences(training_sequences, maxlen=max_length, padding=padding_type, truncating=trunc_type)\n",
    "\n",
    "testing_sequences = tokenizer.texts_to_sequences(X_test)\n",
    "testing_padded = pad_sequences(testing_sequences, maxlen=max_length, padding=padding_type, truncating=trunc_type)\n",
    "\n",
    "model = tf.keras.Sequential([\n",
    "    tf.keras.layers.Embedding(vocab_size, embedding_dim, input_length=max_length),\n",
    "    tf.keras.layers.Bidirectional(tf.keras.layers.LSTM(64)),\n",
    "    tf.keras.layers.Dropout(0.2),\n",
    "    tf.keras.layers.Dense(24, activation='relu'),\n",
    "    tf.keras.layers.Dense(1, activation='sigmoid')\n",
    "])\n",
    "model.compile(loss='binary_crossentropy',optimizer='adam',metrics=['accuracy'])\n",
    "model.summary()\n",
    "\n",
    "num_epochs = 3\n",
    "training_padded = np.array(training_padded)\n",
    "training_labels = np.array(y_train)\n",
    "testing_padded = np.array(testing_padded)\n",
    "testing_labels = np.array(y_test)\n",
    "history = model.fit(training_padded, training_labels, epochs=num_epochs, validation_data=(testing_padded, testing_labels), \n",
    "                    verbose=1)\n"
   ]
  },
  {
   "cell_type": "markdown",
   "id": "cd4fe304",
   "metadata": {},
   "source": [
    "The following will plot the accuracy and validation accuracy against the number of epochs."
   ]
  },
  {
   "cell_type": "code",
   "execution_count": 15,
   "id": "d06794a4",
   "metadata": {},
   "outputs": [
    {
     "data": {
      "image/png": "[encoded data removed]",
      "text/plain": [
       "<Figure size 432x288 with 1 Axes>"
      ]
     },
     "metadata": {
      "needs_background": "light"
     },
     "output_type": "display_data"
    },
    {
     "data": {
      "image/png": "[encoded data removed]",
      "text/plain": [
       "<Figure size 432x288 with 1 Axes>"
      ]
     },
     "metadata": {
      "needs_background": "light"
     },
     "output_type": "display_data"
    }
   ],
   "source": [
    "def plot(history, metric):\n",
    "  plt.plot(history.history[metric])\n",
    "  plt.plot(history.history['val_'+metric])\n",
    "  plt.xlabel(\"Epochs\")\n",
    "  plt.ylabel(metric)\n",
    "  plt.legend([metric, 'val_'+metric])\n",
    "  plt.show()\n",
    "    \n",
    "plot(history, 'accuracy')\n",
    "plot(history, 'loss')"
   ]
  },
  {
   "cell_type": "markdown",
   "id": "b3a31093",
   "metadata": {},
   "source": [
    "The following will save the model and tokenizer for use in the Flask app."
   ]
  },
  {
   "cell_type": "code",
   "execution_count": 16,
   "id": "edba1a11",
   "metadata": {},
   "outputs": [],
   "source": [
    "# Saving the model and tokenizer\n",
    "with open(\"tokenizer.pickle\", \"wb\") as handle:\n",
    "    pickle.dump(tokenizer, handle, protocol=pickle.HIGHEST_PROTOCOL)\n",
    "model.save(\"tf_model.h5\")"
   ]
  }
 ],
 "metadata": {
  "kernelspec": {
   "display_name": "Python 3",
   "language": "python",
   "name": "python3"
  },
  "language_info": {
   "codemirror_mode": {
    "name": "ipython",
    "version": 3
   },
   "file_extension": ".py",
   "mimetype": "text/x-python",
   "name": "python",
   "nbconvert_exporter": "python",
   "pygments_lexer": "ipython3",
   "version": "3.9.5"
  }
 },
 "nbformat": 4,
 "nbformat_minor": 5
}
